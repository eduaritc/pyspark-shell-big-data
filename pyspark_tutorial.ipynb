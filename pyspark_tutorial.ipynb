{
 "cells": [
  {
   "cell_type": "code",
   "execution_count": 3,
   "metadata": {},
   "outputs": [],
   "source": [
    "from pyspark.sql import SparkSession\n",
    "spark = SparkSession.builder.master(\"local[*]\").getOrCreate()"
   ]
  },
  {
   "cell_type": "code",
   "execution_count": 4,
   "metadata": {},
   "outputs": [
    {
     "name": "stderr",
     "output_type": "stream",
     "text": [
      "C:\\apps\\opt\\spark\\python\\pyspark\\sql\\session.py:346: UserWarning: inferring schema from dict is deprecated,please use pyspark.sql.Row instead\n",
      "  warnings.warn(\"inferring schema from dict is deprecated,\"\n"
     ]
    },
    {
     "name": "stdout",
     "output_type": "stream",
     "text": [
      "+-----+\n",
      "|hello|\n",
      "+-----+\n",
      "|world|\n",
      "|world|\n",
      "|world|\n",
      "+-----+\n",
      "only showing top 3 rows\n",
      "\n"
     ]
    }
   ],
   "source": [
    "df = spark.createDataFrame([{\"hello\":\"world\"} for x in range(1000)])\n",
    "df.show(3)"
   ]
  },
  {
   "cell_type": "code",
   "execution_count": 2,
   "metadata": {},
   "outputs": [
    {
     "name": "stdout",
     "output_type": "stream",
     "text": [
      "+-----------+--------------+--------------+--------------+-----------------+--------------------+-------------+--------------+----------------+\n",
      "|customer_id|customer_fname|customer_lname|customer_email|customer_password|     customer_street|customer_city|customer_state|customer_zipcode|\n",
      "+-----------+--------------+--------------+--------------+-----------------+--------------------+-------------+--------------+----------------+\n",
      "|          1|       Richard|     Hernandez|     XXXXXXXXX|        XXXXXXXXX|  6303 Heather Plaza|  Brownsville|            TX|           78521|\n",
      "|          2|          Mary|       Barrett|     XXXXXXXXX|        XXXXXXXXX|9526 Noble Embers...|    Littleton|            CO|           80126|\n",
      "|          3|           Ann|         Smith|     XXXXXXXXX|        XXXXXXXXX|3422 Blue Pioneer...|       Caguas|            PR|             725|\n",
      "|          4|          Mary|         Jones|     XXXXXXXXX|        XXXXXXXXX|  8324 Little Common|   San Marcos|            CA|           92069|\n",
      "|          5|        Robert|        Hudson|     XXXXXXXXX|        XXXXXXXXX|10 Crystal River ...|       Caguas|            PR|             725|\n",
      "|          6|          Mary|         Smith|     XXXXXXXXX|        XXXXXXXXX|3151 Sleepy Quail...|      Passaic|            NJ|            7055|\n",
      "|          7|       Melissa|        Wilcox|     XXXXXXXXX|        XXXXXXXXX|9453 High Concession|       Caguas|            PR|             725|\n",
      "|          8|         Megan|         Smith|     XXXXXXXXX|        XXXXXXXXX|3047 Foggy Forest...|     Lawrence|            MA|            1841|\n",
      "|          9|          Mary|         Perez|     XXXXXXXXX|        XXXXXXXXX| 3616 Quaking Street|       Caguas|            PR|             725|\n",
      "|         10|       Melissa|         Smith|     XXXXXXXXX|        XXXXXXXXX|8598 Harvest Beac...|     Stafford|            VA|           22554|\n",
      "|         11|          Mary|       Huffman|     XXXXXXXXX|        XXXXXXXXX|    3169 Stony Woods|       Caguas|            PR|             725|\n",
      "|         12|   Christopher|         Smith|     XXXXXXXXX|        XXXXXXXXX|5594 Jagged Ember...|  San Antonio|            TX|           78227|\n",
      "|         13|          Mary|       Baldwin|     XXXXXXXXX|        XXXXXXXXX|7922 Iron Oak Gar...|       Caguas|            PR|             725|\n",
      "|         14|     Katherine|         Smith|     XXXXXXXXX|        XXXXXXXXX|5666 Hazy Pony Sq...|  Pico Rivera|            CA|           90660|\n",
      "|         15|          Jane|          Luna|     XXXXXXXXX|        XXXXXXXXX|    673 Burning Glen|      Fontana|            CA|           92336|\n",
      "|         16|       Tiffany|         Smith|     XXXXXXXXX|        XXXXXXXXX|      6651 Iron Port|       Caguas|            PR|             725|\n",
      "|         17|          Mary|      Robinson|     XXXXXXXXX|        XXXXXXXXX|     1325 Noble Pike|       Taylor|            MI|           48180|\n",
      "|         18|        Robert|         Smith|     XXXXXXXXX|        XXXXXXXXX|2734 Hazy Butterf...|     Martinez|            CA|           94553|\n",
      "|         19|     Stephanie|      Mitchell|     XXXXXXXXX|        XXXXXXXXX|3543 Red Treasure...|       Caguas|            PR|             725|\n",
      "|         20|          Mary|         Ellis|     XXXXXXXXX|        XXXXXXXXX|      4703 Old Route|West New York|            NJ|            7093|\n",
      "+-----------+--------------+--------------+--------------+-----------------+--------------------+-------------+--------------+----------------+\n",
      "only showing top 20 rows\n",
      "\n"
     ]
    }
   ],
   "source": [
    "#loading the file customers.csv into our Data Frame\n",
    "df = spark.read.format(\"csv\").option(\"header\", \"true\").option(\"inferschema\", \"true\").option(\"mode\", \"failfast\").load(\"customers.csv\")\n",
    "df.show()"
   ]
  },
  {
   "cell_type": "code",
   "execution_count": 6,
   "metadata": {},
   "outputs": [],
   "source": [
    "#creating a temporary view of the data\n",
    "df.createOrReplaceTempView(\"customers\")"
   ]
  },
  {
   "cell_type": "code",
   "execution_count": 7,
   "metadata": {},
   "outputs": [
    {
     "name": "stdout",
     "output_type": "stream",
     "text": [
      "+--------+\n",
      "|count(1)|\n",
      "+--------+\n",
      "|   12435|\n",
      "+--------+\n",
      "\n"
     ]
    }
   ],
   "source": [
    "#querying the tempview just created\n",
    "spark.sql(\"select count(*) from customers\").show()"
   ]
  },
  {
   "cell_type": "code",
   "execution_count": 8,
   "metadata": {},
   "outputs": [
    {
     "name": "stdout",
     "output_type": "stream",
     "text": [
      "+------------------+--------------+\n",
      "|       length_name|customer_state|\n",
      "+------------------+--------------+\n",
      "| 4.111111111111111|            ID|\n",
      "| 4.666666666666667|            AL|\n",
      "| 4.857142857142857|            MT|\n",
      "| 5.013333333333334|            NC|\n",
      "| 5.051282051282051|            MN|\n",
      "| 5.119565217391305|            MO|\n",
      "| 5.123287671232877|            CT|\n",
      "| 5.134057971014493|            OH|\n",
      "| 5.136094674556213|            GA|\n",
      "| 5.180645161290323|            NY|\n",
      "| 5.190476190476191|            LA|\n",
      "| 5.197860962566845|            FL|\n",
      "| 5.205882352941177|            VA|\n",
      "|5.2060364703416475|            PR|\n",
      "| 5.208661417322834|            MI|\n",
      "|5.2298850574712645|            PA|\n",
      "| 5.238095238095238|            DC|\n",
      "| 5.240384615384615|            TN|\n",
      "| 5.245901639344262|            CO|\n",
      "|              5.25|            AR|\n",
      "+------------------+--------------+\n",
      "only showing top 20 rows\n",
      "\n"
     ]
    }
   ],
   "source": [
    "#average length of customes' name by state\n",
    "spark.sql(\"select avg(character_length(customer_fname)) length_name, customer_state from customers group by customer_state order by length_name\").show()"
   ]
  },
  {
   "cell_type": "code",
   "execution_count": 9,
   "metadata": {},
   "outputs": [
    {
     "name": "stdout",
     "output_type": "stream",
     "text": [
      "+-----------+--------------+--------------+--------------+-----------------+--------------------+-------------+--------------+----------------+\n",
      "|customer_id|customer_fname|customer_lname|customer_email|customer_password|     customer_street|customer_city|customer_state|customer_zipcode|\n",
      "+-----------+--------------+--------------+--------------+-----------------+--------------------+-------------+--------------+----------------+\n",
      "|          1|       Richard|     Hernandez|     XXXXXXXXX|        XXXXXXXXX|  6303 Heather Plaza|  Brownsville|            TX|           78521|\n",
      "|         12|   Christopher|         Smith|     XXXXXXXXX|        XXXXXXXXX|5594 Jagged Ember...|  San Antonio|            TX|           78227|\n",
      "|         29|          Mary|      Humphrey|     XXXXXXXXX|        XXXXXXXXX|2469 Blue Brook C...|   Fort Worth|            TX|           76133|\n",
      "|         82|      Jonathan|          Cook|     XXXXXXXXX|        XXXXXXXXX|    7885 Sleepy Cove|  San Antonio|            TX|           78240|\n",
      "|         86|          John|         Smith|     XXXXXXXXX|        XXXXXXXXX|8780 Colonial Orc...|   Fort Worth|            TX|           76106|\n",
      "|         91|        Ashley|         Smith|     XXXXXXXXX|        XXXXXXXXX|   4515 Golden Manor|       Spring|            TX|           77379|\n",
      "|        126|        Austin|         Smith|     XXXXXXXXX|        XXXXXXXXX|852 Hazy Gate Cir...|     Amarillo|            TX|           79109|\n",
      "|        151|          Lisa|          Shaw|     XXXXXXXXX|        XXXXXXXXX|9772 Noble Prairi...|     Richmond|            TX|           77469|\n",
      "|        189|        Angela|      Peterson|     XXXXXXXXX|        XXXXXXXXX|4435 Harvest Appl...|   San Marcos|            TX|           78666|\n",
      "|        209|        Thomas|         Moore|     XXXXXXXXX|        XXXXXXXXX|      2857 Cozy Mews|   Fort Worth|            TX|           76133|\n",
      "|        239|          Mary|       Simpson|     XXXXXXXXX|        XXXXXXXXX|5530 Dewy Pioneer...|      Mcallen|            TX|           78501|\n",
      "|        248|     Christina|         Walsh|     XXXXXXXXX|        XXXXXXXXX|    3836 Stony Point|      Houston|            TX|           77083|\n",
      "|        252|          Mary|       Frazier|     XXXXXXXXX|        XXXXXXXXX|7126 Shady Bluff ...|   Richardson|            TX|           75080|\n",
      "|        254|         Diana|          Hale|     XXXXXXXXX|        XXXXXXXXX|5950 Silver Elk L...|  San Antonio|            TX|           78223|\n",
      "|        274|          Mary|         Moyer|     XXXXXXXXX|        XXXXXXXXX|5120 Indian Pine ...|  San Antonio|            TX|           78240|\n",
      "|        300|          Mary|           Key|     XXXXXXXXX|        XXXXXXXXX|6630 Umber Dale View|        Plano|            TX|           75093|\n",
      "|        311|       Michael|      Townsend|     XXXXXXXXX|        XXXXXXXXX|6292 Little Deer ...|       Austin|            TX|           78753|\n",
      "|        312|          Jack|         Smith|     XXXXXXXXX|        XXXXXXXXX|     2082 Quiet Wynd|      Houston|            TX|           77055|\n",
      "|        327|          Mary|         Smith|     XXXXXXXXX|        XXXXXXXXX|   4864 Velvet Chase|   Carrollton|            TX|           75007|\n",
      "|        340|       Theresa|       Wiggins|     XXXXXXXXX|        XXXXXXXXX|2355 Velvet Hicko...|       Denton|            TX|           76201|\n",
      "+-----------+--------------+--------------+--------------+-----------------+--------------------+-------------+--------------+----------------+\n",
      "only showing top 20 rows\n",
      "\n"
     ]
    }
   ],
   "source": [
    "spark.sql(\"select * from customers where customer_state = 'TX'\").show()"
   ]
  },
  {
   "cell_type": "code",
   "execution_count": 10,
   "metadata": {},
   "outputs": [
    {
     "name": "stdout",
     "output_type": "stream",
     "text": [
      "+-----------+--------------+--------------+--------------+-----------------+--------------------+-------------+--------------+----------------+\n",
      "|customer_id|customer_fname|customer_lname|customer_email|customer_password|     customer_street|customer_city|customer_state|customer_zipcode|\n",
      "+-----------+--------------+--------------+--------------+-----------------+--------------------+-------------+--------------+----------------+\n",
      "|      12427|          Mary|         Smith|     XXXXXXXXX|        XXXXXXXXX|3662 Round Barn Gate|        Plano|            TX|           75093|\n",
      "|      12408|         Randy|          Rice|     XXXXXXXXX|        XXXXXXXXX|   8528 Green Corner|   Fort Worth|            TX|           76106|\n",
      "|      12381|          Mary|         Olsen|     XXXXXXXXX|        XXXXXXXXX|1208 Cotton Bluff...|       Austin|            TX|           78704|\n",
      "|      12323|        Steven|         Smith|     XXXXXXXXX|        XXXXXXXXX|8213 Rustic Sprin...|  San Antonio|            TX|           78228|\n",
      "|      12302|        Donald|       Sampson|     XXXXXXXXX|        XXXXXXXXX|   8550 Red Oak Bank|       Austin|            TX|           78753|\n",
      "|      12207|          Jose|         Smith|     XXXXXXXXX|        XXXXXXXXX|8473 Crystal Hick...|       Austin|            TX|           78745|\n",
      "|      12178|          Mary|         Mcgee|     XXXXXXXXX|        XXXXXXXXX| 8736 Old Deer Trail|       Irving|            TX|           75061|\n",
      "|      12169|          Mary|       Krueger|     XXXXXXXXX|        XXXXXXXXX|9551 Jagged Pond ...|     Mesquite|            TX|           75150|\n",
      "|      12152|          Mary|         Smith|     XXXXXXXXX|        XXXXXXXXX|9932 Fallen Branc...|    Harlingen|            TX|           78550|\n",
      "|      12150|          Paul|       Hancock|     XXXXXXXXX|        XXXXXXXXX|    3654 Foggy Byway|       Dallas|            TX|           75211|\n",
      "|      12146|          Mary|      Mitchell|     XXXXXXXXX|        XXXXXXXXX|2905 Quiet River ...|      Houston|            TX|           77093|\n",
      "|      12115|      Lawrence|         Smith|     XXXXXXXXX|        XXXXXXXXX|3440 Foggy Autoroute|      Mission|            TX|           78572|\n",
      "|      12103|          Mary|         Smith|     XXXXXXXXX|        XXXXXXXXX| 8988 Thunder Circle|   San Benito|            TX|           78586|\n",
      "|      12063|         Larry|     Henderson|     XXXXXXXXX|        XXXXXXXXX|  248 Cozy Pony Road|   Fort Worth|            TX|           76133|\n",
      "|      12060|          Mary|      Robinson|     XXXXXXXXX|        XXXXXXXXX|   2805 Silver Glade|  San Antonio|            TX|           78223|\n",
      "|      12040|        Thomas|         Moore|     XXXXXXXXX|        XXXXXXXXX|4566 Clear Willow...|    Harlingen|            TX|           78550|\n",
      "|      12020|       Dorothy|         Smith|     XXXXXXXXX|        XXXXXXXXX|      7489 Stony End|        Pharr|            TX|           78577|\n",
      "|      12010|       Melissa|         Baker|     XXXXXXXXX|        XXXXXXXXX|   1987 Stony Circle|      Del Rio|            TX|           78840|\n",
      "|      12006|          Anna|         Sharp|     XXXXXXXXX|        XXXXXXXXX|    4148 Stony Swale|     Mesquite|            TX|           75150|\n",
      "|      11988|          Judy|         Smith|     XXXXXXXXX|        XXXXXXXXX|5002 Easy Island ...|   Round Rock|            TX|           78664|\n",
      "+-----------+--------------+--------------+--------------+-----------------+--------------------+-------------+--------------+----------------+\n",
      "only showing top 20 rows\n",
      "\n"
     ]
    }
   ],
   "source": [
    "spark.sql(\"select * from customers where customer_state = 'TX' order by customer_id desc\").show()"
   ]
  },
  {
   "cell_type": "code",
   "execution_count": 1,
   "metadata": {},
   "outputs": [
    {
     "name": "stdout",
     "output_type": "stream",
     "text": [
      "+-------+---+-------+--------+---------+------+------+------------+---------------------+-----+--------------+------------+---------------------+---------+------------------+\n",
      "| userid|age|dob_day|dob_year|dob_month|gender|tenure|friend_count|friendships_initiated|likes|likes_received|mobile_likes|mobile_likes_received|www_likes|www_likes_received|\n",
      "+-------+---+-------+--------+---------+------+------+------------+---------------------+-----+--------------+------------+---------------------+---------+------------------+\n",
      "|2094382| 14|     19|    1999|       11|  male|   266|           0|                    0|    0|             0|           0|                    0|        0|                 0|\n",
      "|1192601| 14|      2|    1999|       11|female|     6|           0|                    0|    0|             0|           0|                    0|        0|                 0|\n",
      "|2083884| 14|     16|    1999|       11|  male|    13|           0|                    0|    0|             0|           0|                    0|        0|                 0|\n",
      "+-------+---+-------+--------+---------+------+------+------------+---------------------+-----+--------------+------------+---------------------+---------+------------------+\n",
      "only showing top 3 rows\n",
      "\n"
     ]
    }
   ],
   "source": [
    "#LIVE WORKSHOP\n",
    "from pyspark.sql import SparkSession\n",
    "spark = SparkSession.builder.master(\"local[*]\").getOrCreate()\n",
    "df = spark.read.format(\"csv\").option(\"header\", \"true\").option(\"inferschema\", \"true\").option(\"mode\", \"failfast\").load(\"facebook.csv\")\n",
    "df.show(3)"
   ]
  },
  {
   "cell_type": "code",
   "execution_count": 7,
   "metadata": {},
   "outputs": [],
   "source": [
    "#creating a temp view\n",
    "df.createOrReplaceTempView(\"fb\")"
   ]
  },
  {
   "cell_type": "code",
   "execution_count": 8,
   "metadata": {},
   "outputs": [
    {
     "name": "stdout",
     "output_type": "stream",
     "text": [
      "+-------+---+-------+--------+---------+------+------+------------+---------------------+-----+--------------+------------+---------------------+---------+------------------+\n",
      "| userid|age|dob_day|dob_year|dob_month|gender|tenure|friend_count|friendships_initiated|likes|likes_received|mobile_likes|mobile_likes_received|www_likes|www_likes_received|\n",
      "+-------+---+-------+--------+---------+------+------+------------+---------------------+-----+--------------+------------+---------------------+---------+------------------+\n",
      "|2094382| 14|     19|    1999|       11|  male|   266|           0|                    0|    0|             0|           0|                    0|        0|                 0|\n",
      "|1192601| 14|      2|    1999|       11|female|     6|           0|                    0|    0|             0|           0|                    0|        0|                 0|\n",
      "|2083884| 14|     16|    1999|       11|  male|    13|           0|                    0|    0|             0|           0|                    0|        0|                 0|\n",
      "|1203168| 14|     25|    1999|       12|female|    93|           0|                    0|    0|             0|           0|                    0|        0|                 0|\n",
      "|1733186| 14|      4|    1999|       12|  male|    82|           0|                    0|    0|             0|           0|                    0|        0|                 0|\n",
      "|1524765| 14|      1|    1999|       12|  male|    15|           0|                    0|    0|             0|           0|                    0|        0|                 0|\n",
      "|1136133| 13|     14|    2000|        1|  male|    12|           0|                    0|    0|             0|           0|                    0|        0|                 0|\n",
      "|1680361| 13|      4|    2000|        1|female|     0|           0|                    0|    0|             0|           0|                    0|        0|                 0|\n",
      "|1365174| 13|      1|    2000|        1|  male|    81|           0|                    0|    0|             0|           0|                    0|        0|                 0|\n",
      "|1712567| 13|      2|    2000|        2|  male|   171|           0|                    0|    0|             0|           0|                    0|        0|                 0|\n",
      "+-------+---+-------+--------+---------+------+------+------------+---------------------+-----+--------------+------------+---------------------+---------+------------------+\n",
      "only showing top 10 rows\n",
      "\n"
     ]
    }
   ],
   "source": [
    "#show the frist 10 rows\n",
    "spark.sql(\"select * from fb\").show(10)"
   ]
  },
  {
   "cell_type": "code",
   "execution_count": 10,
   "metadata": {},
   "outputs": [
    {
     "name": "stdout",
     "output_type": "stream",
     "text": [
      "+--------+\n",
      "|count(1)|\n",
      "+--------+\n",
      "|   99003|\n",
      "+--------+\n",
      "\n"
     ]
    }
   ],
   "source": [
    "spark.sql(\"select count(*) from fb\").show()"
   ]
  },
  {
   "cell_type": "code",
   "execution_count": 11,
   "metadata": {},
   "outputs": [
    {
     "name": "stdout",
     "output_type": "stream",
     "text": [
      "+-----------------+\n",
      "|         avg(age)|\n",
      "+-----------------+\n",
      "|37.28022383160106|\n",
      "+-----------------+\n",
      "\n"
     ]
    }
   ],
   "source": [
    "spark.sql(\"select avg(age) from fb\").show()"
   ]
  },
  {
   "cell_type": "code",
   "execution_count": 14,
   "metadata": {},
   "outputs": [
    {
     "name": "stdout",
     "output_type": "stream",
     "text": [
      "+------------------+------+\n",
      "|          avg(age)|gender|\n",
      "+------------------+------+\n",
      "| 74.77714285714286|    NA|\n",
      "|39.459904605753465|female|\n",
      "| 35.67024618431386|  male|\n",
      "+------------------+------+\n",
      "\n"
     ]
    }
   ],
   "source": [
    "spark.sql(\"select avg(age), gender from fb group by gender\").show()"
   ]
  },
  {
   "cell_type": "code",
   "execution_count": 15,
   "metadata": {},
   "outputs": [
    {
     "name": "stdout",
     "output_type": "stream",
     "text": [
      "39.28022383160106\n"
     ]
    }
   ],
   "source": [
    "x = spark.sql(\"select avg(age) from fb\").collect()[0][0]\n",
    "print(x+2)"
   ]
  },
  {
   "cell_type": "code",
   "execution_count": 17,
   "metadata": {},
   "outputs": [
    {
     "name": "stdout",
     "output_type": "stream",
     "text": [
      "+------------------+------+\n",
      "|         avg_likes|gender|\n",
      "+------------------+------+\n",
      "| 67.91154778570697|  male|\n",
      "|157.38285714285715|    NA|\n",
      "| 251.4354349878273|female|\n",
      "+------------------+------+\n",
      "\n"
     ]
    }
   ],
   "source": [
    "# average of likes received by gender\n",
    "spark.sql(\"select avg(likes_received) as avg_likes, gender from fb group by gender order by avg_likes\").show()"
   ]
  },
  {
   "cell_type": "code",
   "execution_count": 18,
   "metadata": {},
   "outputs": [
    {
     "name": "stdout",
     "output_type": "stream",
     "text": [
      "+------------------+\n",
      "| avg(friend_count)|\n",
      "+------------------+\n",
      "|113.82846603135567|\n",
      "+------------------+\n",
      "\n"
     ]
    }
   ],
   "source": [
    "# average of number of friend between 26 and 50 years old\n",
    "spark.sql(\"select avg(friend_count) from fb where age >= 26 and age <= 50\").show()"
   ]
  },
  {
   "cell_type": "code",
   "execution_count": 19,
   "metadata": {},
   "outputs": [
    {
     "name": "stdout",
     "output_type": "stream",
     "text": [
      "+------------------+-----------------+\n",
      "| avg(mobile_likes)|   avg(www_likes)|\n",
      "+------------------+-----------------+\n",
      "|123.98981737425284|55.50010631511801|\n",
      "+------------------+-----------------+\n",
      "\n"
     ]
    }
   ],
   "source": [
    "#average of likes received by phone and likes received from other sources whose age are between 13 and 25\n",
    "spark.sql(\"select avg(mobile_likes), avg(www_likes) from fb where age >= 13 and age <= 25\").show()"
   ]
  },
  {
   "cell_type": "code",
   "execution_count": 20,
   "metadata": {},
   "outputs": [
    {
     "name": "stdout",
     "output_type": "stream",
     "text": [
      "+---+------------------+\n",
      "|age| avg(friend_count)|\n",
      "+---+------------------+\n",
      "|113|334.66831683168317|\n",
      "|112|484.94444444444446|\n",
      "|111|240.22222222222223|\n",
      "|110|336.73333333333335|\n",
      "|109|172.88888888888889|\n",
      "|108| 369.2426249247441|\n",
      "|107| 363.1020408163265|\n",
      "|106|           312.096|\n",
      "|105|          398.5625|\n",
      "|104| 429.5068493150685|\n",
      "|103| 462.5057471264368|\n",
      "|102|446.85026737967917|\n",
      "|101| 393.6496815286624|\n",
      "|100| 356.2123076923077|\n",
      "| 99| 402.7831325301205|\n",
      "| 98|423.97849462365593|\n",
      "| 97| 435.2857142857143|\n",
      "| 96|476.42857142857144|\n",
      "| 95| 413.3246753246753|\n",
      "| 94|439.70108695652175|\n",
      "+---+------------------+\n",
      "only showing top 20 rows\n",
      "\n"
     ]
    }
   ],
   "source": [
    "#Average of friends by age in  decrescent age order\n",
    "df.groupBy(\"age\").avg(\"friend_count\").orderBy(\"age\" ,ascending = False).show()\n"
   ]
  }
 ],
 "metadata": {
  "kernelspec": {
   "display_name": "Python 3.11.0 64-bit",
   "language": "python",
   "name": "python3"
  },
  "language_info": {
   "codemirror_mode": {
    "name": "ipython",
    "version": 3
   },
   "file_extension": ".py",
   "mimetype": "text/x-python",
   "name": "python",
   "nbconvert_exporter": "python",
   "pygments_lexer": "ipython3",
   "version": "3.6.8"
  },
  "orig_nbformat": 4,
  "vscode": {
   "interpreter": {
    "hash": "fbe58ca63fe33f9eeae9e71d10368d2b4a57f2b1b395836210cc60d362c66949"
   }
  }
 },
 "nbformat": 4,
 "nbformat_minor": 2
}
